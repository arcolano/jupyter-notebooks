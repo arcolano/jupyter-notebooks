{
 "cells": [
  {
   "cell_type": "markdown",
   "metadata": {},
   "source": [
    "Hypothesis testing (or detection theory, or binary classification) has been around.  \n",
    "\n",
    "I'm surprised at how often I and others I know get turned around with the variety of terms and definitions.  For example, having an electrical engineering background, I'm **probability of correct detection** and **probability of false alarm**, whereas my computer science colleagues are much more likely to talk about **precision** and **recall**.  (Don't even get me started about **sensitivity** and **specificity**.)\n",
    "\n",
    "All these things are related, but people rarely talk about them all together."
   ]
  },
  {
   "cell_type": "markdown",
   "metadata": {},
   "source": [
    "## Possibilities\n",
    "\n",
    "Imagine you want to develop an algorithm that predicts whether or not it will rain on a given day.  Every day, your algorithm will take a collection of inputs (e.g. temperature, pressure, historical weather trends) and offer one of two outputs: **positive**, indicating a prediction of rain, or **negative**, indicating a prediction of no rain. (I realize now that calling rain the \"positive\" case might be counterintuitive; feel free to pretend you're a farmer in a drought-stricken region if it helps.)\n",
    "\n",
    "Depending on whether it *actually* rains or not, every day there can be four possible outcomes:\n",
    "\n",
    "* Your algorithm claims it will rain, and it does (referred to as a **true positive**).  \n",
    "* Your algorithm doesn't claim it will rain, and it doesn't (referred to as a **true negative**).\n",
    "* Your algorithm claims it will rain, but it doesn't (referred to as a **false positive**).  \n",
    "* Your algorithm doesn't claim it will rain, but it does (referred to as a **false negative**).\n",
    "\n",
    "The first two cases are correct predictions, while the second two are incorrect predictions.  Also note\n",
    "\n"
   ]
  },
  {
   "cell_type": "markdown",
   "metadata": {},
   "source": [
    "Imagine you run your classifier for a long time, so that its performance can be "
   ]
  },
  {
   "cell_type": "markdown",
   "metadata": {},
   "source": [
    "## Performance metrics\n",
    "\n",
    "Correct detection rate"
   ]
  },
  {
   "cell_type": "code",
   "execution_count": null,
   "metadata": {
    "collapsed": true
   },
   "outputs": [],
   "source": []
  }
 ],
 "metadata": {
  "kernelspec": {
   "display_name": "Python 2",
   "language": "python",
   "name": "python2"
  },
  "language_info": {
   "codemirror_mode": {
    "name": "ipython",
    "version": 2
   },
   "file_extension": ".py",
   "mimetype": "text/x-python",
   "name": "python",
   "nbconvert_exporter": "python",
   "pygments_lexer": "ipython2",
   "version": "2.7.11"
  }
 },
 "nbformat": 4,
 "nbformat_minor": 0
}
