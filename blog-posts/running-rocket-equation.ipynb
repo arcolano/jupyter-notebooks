{
 "cells": [
  {
   "cell_type": "markdown",
   "metadata": {},
   "source": [
    "\n",
    "https://runkeeper.com/exportDataForm\n",
    "\n",
    "Not only a rollup table of all your activites, but also individual GPX files containing the geo tracks for each of your trips."
   ]
  },
  {
   "cell_type": "code",
   "execution_count": 1,
   "metadata": {
    "collapsed": true
   },
   "outputs": [],
   "source": [
    "import numpy as np\n",
    "import pandas as pd\n",
    "import matplotlib.pyplot as plt\n",
    "\n",
    "%matplotlib inline"
   ]
  },
  {
   "cell_type": "code",
   "execution_count": 2,
   "metadata": {
    "collapsed": false
   },
   "outputs": [
    {
     "name": "stdout",
     "output_type": "stream",
     "text": [
      "Number of activities = 342\n"
     ]
    },
    {
     "data": {
      "text/html": [
       "<div>\n",
       "<table border=\"1\" class=\"dataframe\">\n",
       "  <thead>\n",
       "    <tr style=\"text-align: right;\">\n",
       "      <th></th>\n",
       "      <th>Date</th>\n",
       "      <th>Type</th>\n",
       "      <th>Route Name</th>\n",
       "      <th>Distance (mi)</th>\n",
       "      <th>Duration</th>\n",
       "      <th>Average Pace</th>\n",
       "      <th>Average Speed (mph)</th>\n",
       "      <th>Calories Burned</th>\n",
       "      <th>Climb (ft)</th>\n",
       "      <th>Average Heart Rate (bpm)</th>\n",
       "      <th>Notes</th>\n",
       "      <th>GPX File</th>\n",
       "    </tr>\n",
       "  </thead>\n",
       "  <tbody>\n",
       "    <tr>\n",
       "      <th>0</th>\n",
       "      <td>2015-09-10 22:15:00</td>\n",
       "      <td>Running</td>\n",
       "      <td>NaN</td>\n",
       "      <td>1.00</td>\n",
       "      <td>8:34</td>\n",
       "      <td>8:34</td>\n",
       "      <td>7.00</td>\n",
       "      <td>162.000000</td>\n",
       "      <td>NaN</td>\n",
       "      <td>NaN</td>\n",
       "      <td>Treadmill mile during Patriots halftime.</td>\n",
       "      <td>NaN</td>\n",
       "    </tr>\n",
       "    <tr>\n",
       "      <th>1</th>\n",
       "      <td>2015-09-09 23:30:00</td>\n",
       "      <td>Running</td>\n",
       "      <td>NaN</td>\n",
       "      <td>2.00</td>\n",
       "      <td>20:00</td>\n",
       "      <td>10:00</td>\n",
       "      <td>6.00</td>\n",
       "      <td>331.000000</td>\n",
       "      <td>NaN</td>\n",
       "      <td>NaN</td>\n",
       "      <td>Streak++</td>\n",
       "      <td>NaN</td>\n",
       "    </tr>\n",
       "    <tr>\n",
       "      <th>2</th>\n",
       "      <td>2015-09-08 22:03:21</td>\n",
       "      <td>Running</td>\n",
       "      <td>NaN</td>\n",
       "      <td>1.00</td>\n",
       "      <td>10:00</td>\n",
       "      <td>10:00</td>\n",
       "      <td>6.00</td>\n",
       "      <td>165.738346</td>\n",
       "      <td>NaN</td>\n",
       "      <td>NaN</td>\n",
       "      <td>Treadmill mile. So hot out today!!</td>\n",
       "      <td>NaN</td>\n",
       "    </tr>\n",
       "    <tr>\n",
       "      <th>3</th>\n",
       "      <td>2015-09-07 18:50:18</td>\n",
       "      <td>Running</td>\n",
       "      <td>NaN</td>\n",
       "      <td>1.00</td>\n",
       "      <td>8:45</td>\n",
       "      <td>8:43</td>\n",
       "      <td>6.88</td>\n",
       "      <td>163.000000</td>\n",
       "      <td>13.68</td>\n",
       "      <td>NaN</td>\n",
       "      <td>Getting my mile in after a looong car ride hom...</td>\n",
       "      <td>2015-09-07-1850.gpx</td>\n",
       "    </tr>\n",
       "    <tr>\n",
       "      <th>4</th>\n",
       "      <td>2015-09-06 09:18:22</td>\n",
       "      <td>Running</td>\n",
       "      <td>NaN</td>\n",
       "      <td>2.15</td>\n",
       "      <td>27:56</td>\n",
       "      <td>13:00</td>\n",
       "      <td>4.61</td>\n",
       "      <td>338.000000</td>\n",
       "      <td>95.27</td>\n",
       "      <td>NaN</td>\n",
       "      <td>Another trail run. Tox —&gt; detox —&gt; retox.</td>\n",
       "      <td>2015-09-06-0918.gpx</td>\n",
       "    </tr>\n",
       "  </tbody>\n",
       "</table>\n",
       "</div>"
      ],
      "text/plain": [
       "                  Date     Type Route Name  Distance (mi) Duration  \\\n",
       "0  2015-09-10 22:15:00  Running        NaN           1.00     8:34   \n",
       "1  2015-09-09 23:30:00  Running        NaN           2.00    20:00   \n",
       "2  2015-09-08 22:03:21  Running        NaN           1.00    10:00   \n",
       "3  2015-09-07 18:50:18  Running        NaN           1.00     8:45   \n",
       "4  2015-09-06 09:18:22  Running        NaN           2.15    27:56   \n",
       "\n",
       "  Average Pace  Average Speed (mph)  Calories Burned  Climb (ft)  \\\n",
       "0         8:34                 7.00       162.000000         NaN   \n",
       "1        10:00                 6.00       331.000000         NaN   \n",
       "2        10:00                 6.00       165.738346         NaN   \n",
       "3         8:43                 6.88       163.000000       13.68   \n",
       "4        13:00                 4.61       338.000000       95.27   \n",
       "\n",
       "   Average Heart Rate (bpm)  \\\n",
       "0                       NaN   \n",
       "1                       NaN   \n",
       "2                       NaN   \n",
       "3                       NaN   \n",
       "4                       NaN   \n",
       "\n",
       "                                               Notes             GPX File  \n",
       "0           Treadmill mile during Patriots halftime.                  NaN  \n",
       "1                                           Streak++                  NaN  \n",
       "2                 Treadmill mile. So hot out today!!                  NaN  \n",
       "3  Getting my mile in after a looong car ride hom...  2015-09-07-1850.gpx  \n",
       "4         Another trail run. Tox —> detox —> retox.   2015-09-06-0918.gpx  "
      ]
     },
     "execution_count": 2,
     "metadata": {},
     "output_type": "execute_result"
    }
   ],
   "source": [
    "fpath = './data/cardioActivities.csv'\n",
    "df = pd.read_csv(fpath)\n",
    "\n",
    "print('Number of activities = {:d}'.format(len(df)))\n",
    "df.head()"
   ]
  },
  {
   "cell_type": "markdown",
   "metadata": {},
   "source": [
    "One annoyance is that both total duration and average pace are represented in MM:SS format, so let's recompute these quantities. Next, we'll pull out just the running activities. Also, we're going to drop manually-tracked activities, focusing only on running trips that were recorded using a GPS track."
   ]
  },
  {
   "cell_type": "code",
   "execution_count": 3,
   "metadata": {
    "collapsed": false
   },
   "outputs": [
    {
     "name": "stdout",
     "output_type": "stream",
     "text": [
      "Number of GPS-tracked running activities = 154\n"
     ]
    },
    {
     "data": {
      "text/html": [
       "<div>\n",
       "<table border=\"1\" class=\"dataframe\">\n",
       "  <thead>\n",
       "    <tr style=\"text-align: right;\">\n",
       "      <th></th>\n",
       "      <th>Date</th>\n",
       "      <th>Type</th>\n",
       "      <th>Route Name</th>\n",
       "      <th>Distance (mi)</th>\n",
       "      <th>Duration</th>\n",
       "      <th>Average Pace</th>\n",
       "      <th>Average Speed (mph)</th>\n",
       "      <th>Calories Burned</th>\n",
       "      <th>Climb (ft)</th>\n",
       "      <th>Average Heart Rate (bpm)</th>\n",
       "      <th>Notes</th>\n",
       "      <th>GPX File</th>\n",
       "    </tr>\n",
       "  </thead>\n",
       "  <tbody>\n",
       "    <tr>\n",
       "      <th>3</th>\n",
       "      <td>2015-09-07 18:50:18</td>\n",
       "      <td>Running</td>\n",
       "      <td>NaN</td>\n",
       "      <td>1.00</td>\n",
       "      <td>8.720930</td>\n",
       "      <td>8.720930</td>\n",
       "      <td>6.88</td>\n",
       "      <td>163</td>\n",
       "      <td>13.68</td>\n",
       "      <td>NaN</td>\n",
       "      <td>Getting my mile in after a looong car ride hom...</td>\n",
       "      <td>2015-09-07-1850.gpx</td>\n",
       "    </tr>\n",
       "    <tr>\n",
       "      <th>4</th>\n",
       "      <td>2015-09-06 09:18:22</td>\n",
       "      <td>Running</td>\n",
       "      <td>NaN</td>\n",
       "      <td>2.15</td>\n",
       "      <td>27.982646</td>\n",
       "      <td>13.015184</td>\n",
       "      <td>4.61</td>\n",
       "      <td>338</td>\n",
       "      <td>95.27</td>\n",
       "      <td>NaN</td>\n",
       "      <td>Another trail run. Tox —&gt; detox —&gt; retox.</td>\n",
       "      <td>2015-09-06-0918.gpx</td>\n",
       "    </tr>\n",
       "    <tr>\n",
       "      <th>5</th>\n",
       "      <td>2015-09-05 13:22:51</td>\n",
       "      <td>Running</td>\n",
       "      <td>NaN</td>\n",
       "      <td>2.38</td>\n",
       "      <td>28.165680</td>\n",
       "      <td>11.834320</td>\n",
       "      <td>5.07</td>\n",
       "      <td>392</td>\n",
       "      <td>108.91</td>\n",
       "      <td>NaN</td>\n",
       "      <td>Trail run around French Creek State Park.</td>\n",
       "      <td>2015-09-05-1322.gpx</td>\n",
       "    </tr>\n",
       "    <tr>\n",
       "      <th>6</th>\n",
       "      <td>2015-09-04 08:52:33</td>\n",
       "      <td>Running</td>\n",
       "      <td>NaN</td>\n",
       "      <td>4.00</td>\n",
       "      <td>34.682081</td>\n",
       "      <td>8.670520</td>\n",
       "      <td>6.92</td>\n",
       "      <td>658</td>\n",
       "      <td>70.08</td>\n",
       "      <td>NaN</td>\n",
       "      <td>A few miles before heading out for the holiday...</td>\n",
       "      <td>2015-09-04-0852.gpx</td>\n",
       "    </tr>\n",
       "    <tr>\n",
       "      <th>7</th>\n",
       "      <td>2015-09-03 22:19:41</td>\n",
       "      <td>Running</td>\n",
       "      <td>NaN</td>\n",
       "      <td>1.00</td>\n",
       "      <td>8.836524</td>\n",
       "      <td>8.836524</td>\n",
       "      <td>6.79</td>\n",
       "      <td>162</td>\n",
       "      <td>13.66</td>\n",
       "      <td>NaN</td>\n",
       "      <td>Ran out of time today, only got a mile in. Leg...</td>\n",
       "      <td>2015-09-03-2219.gpx</td>\n",
       "    </tr>\n",
       "  </tbody>\n",
       "</table>\n",
       "</div>"
      ],
      "text/plain": [
       "                  Date     Type Route Name  Distance (mi)   Duration  \\\n",
       "3  2015-09-07 18:50:18  Running        NaN           1.00   8.720930   \n",
       "4  2015-09-06 09:18:22  Running        NaN           2.15  27.982646   \n",
       "5  2015-09-05 13:22:51  Running        NaN           2.38  28.165680   \n",
       "6  2015-09-04 08:52:33  Running        NaN           4.00  34.682081   \n",
       "7  2015-09-03 22:19:41  Running        NaN           1.00   8.836524   \n",
       "\n",
       "   Average Pace  Average Speed (mph)  Calories Burned  Climb (ft)  \\\n",
       "3      8.720930                 6.88              163       13.68   \n",
       "4     13.015184                 4.61              338       95.27   \n",
       "5     11.834320                 5.07              392      108.91   \n",
       "6      8.670520                 6.92              658       70.08   \n",
       "7      8.836524                 6.79              162       13.66   \n",
       "\n",
       "   Average Heart Rate (bpm)  \\\n",
       "3                       NaN   \n",
       "4                       NaN   \n",
       "5                       NaN   \n",
       "6                       NaN   \n",
       "7                       NaN   \n",
       "\n",
       "                                               Notes             GPX File  \n",
       "3  Getting my mile in after a looong car ride hom...  2015-09-07-1850.gpx  \n",
       "4         Another trail run. Tox —> detox —> retox.   2015-09-06-0918.gpx  \n",
       "5         Trail run around French Creek State Park.   2015-09-05-1322.gpx  \n",
       "6  A few miles before heading out for the holiday...  2015-09-04-0852.gpx  \n",
       "7  Ran out of time today, only got a mile in. Leg...  2015-09-03-2219.gpx  "
      ]
     },
     "execution_count": 3,
     "metadata": {},
     "output_type": "execute_result"
    }
   ],
   "source": [
    "df['Duration'] = df['Distance (mi)']/df['Average Speed (mph)']*60.0  # Duration in minutes\n",
    "df['Average Pace'] = 60.0/df['Average Speed (mph)']  # Pace in minutes/mile\n",
    "\n",
    "df = df[df['Type'] == 'Running']  # Keep only running activies\n",
    "df = df.dropna(subset=['GPX File'])  # Drop records without a GPX file\n",
    "\n",
    "print('Number of GPS-tracked running activities = {:d}'.format(len(df)))\n",
    "df.head()"
   ]
  },
  {
   "cell_type": "markdown",
   "metadata": {},
   "source": [
    "Let's take a running window, and over each window we'll.  Let's bin the data and only keep "
   ]
  },
  {
   "cell_type": "code",
   "execution_count": null,
   "metadata": {
    "collapsed": true
   },
   "outputs": [],
   "source": []
  },
  {
   "cell_type": "code",
   "execution_count": 30,
   "metadata": {
    "collapsed": false
   },
   "outputs": [
    {
     "data": {
      "text/plain": [
       "<matplotlib.axes._subplots.AxesSubplot at 0xdbc1b38>"
      ]
     },
     "execution_count": 30,
     "metadata": {},
     "output_type": "execute_result"
    },
    {
     "data": {
      "image/png": "[encoded data removed]",
      "text/plain": [
       "<matplotlib.figure.Figure at 0xdbb1160>"
      ]
     },
     "metadata": {},
     "output_type": "display_data"
    }
   ],
   "source": [
    "df['Distance (mi)'].hist(bins=20)"
   ]
  },
  {
   "cell_type": "code",
   "execution_count": 27,
   "metadata": {
    "collapsed": false
   },
   "outputs": [
    {
     "data": {
      "image/png": "[encoded data removed]",
      "text/plain": [
       "<matplotlib.figure.Figure at 0xdbe0da0>"
      ]
     },
     "metadata": {},
     "output_type": "display_data"
    }
   ],
   "source": [
    "plt.scatter(df['Distance (mi)'], df['Average Pace'])\n",
    "plt.xlim(0, 30)\n",
    "plt.xlabel('Distance (mi)')\n",
    "plt.ylim(7, 12.5)\n",
    "plt.ylabel('Pace (min/mi)')\n",
    "plt.show()"
   ]
  },
  {
   "cell_type": "code",
   "execution_count": 28,
   "metadata": {
    "collapsed": false
   },
   "outputs": [
    {
     "data": {
      "image/png": "[encoded data removed]",
      "text/plain": [
       "<matplotlib.figure.Figure at 0xe0fe160>"
      ]
     },
     "metadata": {},
     "output_type": "display_data"
    }
   ],
   "source": [
    "plt.scatter(df['Distance (mi)'], df['Average Pace'])\n",
    "plt.xscale('log')\n",
    "plt.xlim(0, 20)\n",
    "plt.xlabel('Distance (mi)')\n",
    "plt.yscale('log')\n",
    "plt.ylim(7, 12.5)\n",
    "plt.ylabel('Pace (min/mi)')\n",
    "plt.show()"
   ]
  },
  {
   "cell_type": "code",
   "execution_count": 20,
   "metadata": {
    "collapsed": false
   },
   "outputs": [
    {
     "data": {
      "text/plain": [
       "Date                                                      2015-09-07 18:50:18\n",
       "Type                                                                  Running\n",
       "Route Name                                              Watertown Quick Run 2\n",
       "Distance (mi)                                                            26.8\n",
       "Duration                                                             329.0323\n",
       "Average Pace                                                         32.25806\n",
       "Average Speed (mph)                                                      8.19\n",
       "Calories Burned                                                          4583\n",
       "Climb (ft)                                                             980.85\n",
       "Average Heart Rate (bpm)                                                  NaN\n",
       "Notes                       Weekend long run. Cold and damp, but minimal w...\n",
       "GPX File                                                  2015-09-07-1850.gpx\n",
       "dtype: object"
      ]
     },
     "execution_count": 20,
     "metadata": {},
     "output_type": "execute_result"
    }
   ],
   "source": [
    "df.max()"
   ]
  },
  {
   "cell_type": "code",
   "execution_count": null,
   "metadata": {
    "collapsed": true
   },
   "outputs": [],
   "source": []
  }
 ],
 "metadata": {
  "kernelspec": {
   "display_name": "Python 2",
   "language": "python",
   "name": "python2"
  },
  "language_info": {
   "codemirror_mode": {
    "name": "ipython",
    "version": 2
   },
   "file_extension": ".py",
   "mimetype": "text/x-python",
   "name": "python",
   "nbconvert_exporter": "python",
   "pygments_lexer": "ipython2",
   "version": "2.7.10"
  }
 },
 "nbformat": 4,
 "nbformat_minor": 0
}
