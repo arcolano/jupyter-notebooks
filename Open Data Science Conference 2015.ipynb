{
 "cells": [
  {
   "cell_type": "markdown",
   "metadata": {},
   "source": [
    "This is the code from my talk at the Boston 2015 Open Data Science Conference.  You can view the slides from the presentation [here](http://www.slideshare.net/Arcolano/odsc2015).  Unfortunately, the demo used RunKeeper user data so most of what's here won't actually run.  Next time I'll make sure I have a completely shareable working demo!"
   ]
  },
  {
   "cell_type": "code",
   "execution_count": null,
   "metadata": {
    "collapsed": false,
    "slideshow": {
     "slide_type": "skip"
    }
   },
   "outputs": [],
   "source": [
    "import random\n",
    "\n",
    "import numpy as np\n",
    "import pandas as pd\n",
    "import matplotlib.pyplot as plt\n",
    "%matplotlib inline"
   ]
  },
  {
   "cell_type": "code",
   "execution_count": null,
   "metadata": {
    "collapsed": false,
    "slideshow": {
     "slide_type": "-"
    }
   },
   "outputs": [],
   "source": [
    "import os\n",
    "tripdir = './data/rk/segments/328635286/'\n",
    "files = os.listdir(tripdir)\n",
    "files[:20]"
   ]
  },
  {
   "cell_type": "code",
   "execution_count": null,
   "metadata": {
    "collapsed": false,
    "slideshow": {
     "slide_type": "-"
    }
   },
   "outputs": [],
   "source": [
    "import json\n",
    "geo = []\n",
    "for fn in files:\n",
    "    with open(tripdir + fn, 'r') as f:\n",
    "        geo.append(json.load(f))\n",
    "geo[0]"
   ]
  },
  {
   "cell_type": "code",
   "execution_count": null,
   "metadata": {
    "collapsed": false,
    "slideshow": {
     "slide_type": "-"
    }
   },
   "outputs": [],
   "source": [
    "import geopandas as gpd\n",
    "segments = gpd.GeoDataFrame.from_features(geo)\n",
    "segments.head()"
   ]
  },
  {
   "cell_type": "code",
   "execution_count": null,
   "metadata": {
    "collapsed": false,
    "slideshow": {
     "slide_type": "-"
    }
   },
   "outputs": [],
   "source": [
    "# Plot using built-in matplotlib plotting\n",
    "segments.plot()"
   ]
  },
  {
   "cell_type": "code",
   "execution_count": null,
   "metadata": {
    "collapsed": false,
    "slideshow": {
     "slide_type": "slide"
    }
   },
   "outputs": [],
   "source": [
    "import geojsonio\n",
    "geojsonio.embed(segments.to_json())"
   ]
  },
  {
   "cell_type": "code",
   "execution_count": null,
   "metadata": {
    "collapsed": false,
    "slideshow": {
     "slide_type": "skip"
    }
   },
   "outputs": [],
   "source": [
    "def load_random_trips(n_trips):\n",
    "    # Load a random selection of running trips\n",
    "    trip_df = pd.read_csv('./data/rk/boston_running_trips_201404_201409.tsv', sep='\\t')\n",
    "    idx = random.sample(trip_df.index, n_trips)\n",
    "    trip_list = trip_df['tripid'][idx].values\n",
    "\n",
    "    # Find all corresponding segment files\n",
    "    data_dir = './data/rk/segments/'\n",
    "    file_list = []\n",
    "    for tripid in trip_list:\n",
    "        trip_dir = data_dir + str(tripid) + '/'\n",
    "        if os.path.isdir(trip_dir):\n",
    "            file_list += [trip_dir + s for s in os.listdir(trip_dir)]\n",
    "\n",
    "    n_segments = len(file_list)\n",
    "    \n",
    "    # Load files and create GeoDataFrame\n",
    "    segments = []\n",
    "    features = []\n",
    "\n",
    "    for path in file_list:\n",
    "        f = open(path, 'r')\n",
    "        geo = json.load(f)\n",
    "        if (len(geo['geometry']['coordinates']) > 1):  # Make sure LineStrings have at least 2 coordinates    \n",
    "            features.append(geo)\n",
    "            segments.append(path.split('/')[-1].split('.')[0])  # Save segment/file identifier\n",
    "        f.close\n",
    "\n",
    "    gdf = gpd.GeoDataFrame.from_features(features)  \n",
    "    gdf.index = segments\n",
    "\n",
    "    c = 26.8224  # Factor to convert seconds/meter to minutes/mile\n",
    "    gdf['pace_mpm'] = gdf['duration']/gdf['distance']*c  # Compute pace of each segment in minutes/mile\n",
    "\n",
    "    return gdf"
   ]
  },
  {
   "cell_type": "code",
   "execution_count": null,
   "metadata": {
    "collapsed": false,
    "slideshow": {
     "slide_type": "-"
    }
   },
   "outputs": [],
   "source": [
    "# Load segments from a random sample of RunKeeper trips\n",
    "gdf = load_random_trips(10000)\n",
    "\n",
    "n_segments = len(gdf)\n",
    "median_pace = gdf['pace_mpm'].median()\n",
    "\n",
    "print('Number of segments = {:,d}'.format(n_segments))\n",
    "print('Median segment pace (min/mile) = {:0.2f}'.format(median_pace))"
   ]
  },
  {
   "cell_type": "code",
   "execution_count": null,
   "metadata": {
    "collapsed": false,
    "slideshow": {
     "slide_type": "slide"
    }
   },
   "outputs": [],
   "source": [
    "# Visualize a random selection of segments\n",
    "idx = random.sample(range(len(gdf)), 200)\n",
    "geo = gdf[['geometry']].iloc[idx].to_json()\n",
    "geojsonio.embed(geo)"
   ]
  },
  {
   "cell_type": "code",
   "execution_count": null,
   "metadata": {
    "collapsed": false,
    "slideshow": {
     "slide_type": "-"
    }
   },
   "outputs": [],
   "source": [
    "# Load City of Cambridge boundary\n",
    "shpfile = './data/cambridge/BOUNDARY_CityBoundary.shp'\n",
    "cambridge = gpd.GeoDataFrame.from_file(shpfile)\n",
    "cambridge.to_crs(epsg=4326, inplace=True)  # Project local coordinate system into lon/lat\n",
    "\n",
    "# Now, we can do logical indexing of the GeoDataFrame using spatial operations\n",
    "boundary = cambridge['geometry'][0]\n",
    "idx = gdf['geometry'].intersects(boundary)\n",
    "gdf = gdf[idx]\n",
    "\n",
    "print('Number of segments = {:,d}'.format(len(gdf)))"
   ]
  },
  {
   "cell_type": "code",
   "execution_count": null,
   "metadata": {
    "collapsed": false,
    "scrolled": true,
    "slideshow": {
     "slide_type": "slide"
    }
   },
   "outputs": [],
   "source": [
    "# Visualize a random selection of segments; they should now be only in Cambridge\n",
    "idx = random.sample(range(len(gdf)), 200)\n",
    "geo = gdf[['geometry']].iloc[idx].to_json()\n",
    "geojsonio.embed(geo)"
   ]
  },
  {
   "cell_type": "code",
   "execution_count": null,
   "metadata": {
    "collapsed": false,
    "slideshow": {
     "slide_type": "slide"
    }
   },
   "outputs": [],
   "source": [
    "# Find top 10 worst intersections (of ones with at least 100 segments)\n",
    "idx = intersections['segment_count'] >= 100\n",
    "top_ten = intersections[['geometry']][idx].head(10)\n",
    "top_ten['marker-symbol'] = range(1, 11)  # Add ranking to labels\n",
    "geojsonio.embed(top_ten.to_json())"
   ]
  },
  {
   "cell_type": "code",
   "execution_count": null,
   "metadata": {
    "collapsed": false,
    "slideshow": {
     "slide_type": "-"
    }
   },
   "outputs": [],
   "source": [
    "shpfile = './data/cambridge/TRANS_Centerlines.shp'\n",
    "roads = gpd.GeoDataFrame.from_file(shpfile)\n",
    "roads.to_crs(epsg=4326, inplace=True)  # Project local coordinate system into lon/lat\n",
    "\n",
    "# Find the ID of the closest road to each segment\n",
    "road_ids = []\n",
    "for sid, segment in gdf.iterrows():\n",
    "    distances = roads['geometry'].distance(segment['geometry'])\n",
    "    road_ids.append(roads['ID'][distances.argmin()])  # Record ID of closest road\n",
    "    \n",
    "# Combine with segment data and compute median speeds, segment_counts\n",
    "gdf['road_id'] = road_ids\n",
    "grp = gdf.groupby('road_id')\n",
    "road_speeds = grp['speed'].agg({'median_speed': np.median, 'segment_count': len})\n",
    "\n",
    "# Merge speeds with road data\n",
    "roads = roads.merge(road_speeds, left_on='ID', right_index=True)\n",
    "roads = gpd.GeoDataFrame(roads)  # Ensure type\n",
    "\n",
    "# Sort intersections by fastest speed\n",
    "roads.sort(columns=['median_speed'], ascending=False, inplace=True)"
   ]
  },
  {
   "cell_type": "code",
   "execution_count": null,
   "metadata": {
    "collapsed": false,
    "slideshow": {
     "slide_type": "slide"
    }
   },
   "outputs": [],
   "source": [
    "# Find fastest stretch of road (of ones with at least 100 segments)\n",
    "idx = roads['segment_count'] >= 100\n",
    "fastest_road = roads[idx].head(1)\n",
    "geojsonio.embed(fastest_road.to_json())"
   ]
  },
  {
   "cell_type": "code",
   "execution_count": null,
   "metadata": {
    "collapsed": false,
    "slideshow": {
     "slide_type": "-"
    }
   },
   "outputs": [],
   "source": [
    "# Export to geoJSON file for importing into Mapbox Studio\n",
    "f = open('./data/road_speeds.geojson', 'w')\n",
    "f.write(roads.to_json()) \n",
    "f.close()"
   ]
  }
 ],
 "metadata": {
  "kernelspec": {
   "display_name": "Python 2",
   "language": "python",
   "name": "python2"
  },
  "language_info": {
   "codemirror_mode": {
    "name": "ipython",
    "version": 2
   },
   "file_extension": ".py",
   "mimetype": "text/x-python",
   "name": "python",
   "nbconvert_exporter": "python",
   "pygments_lexer": "ipython2",
   "version": "2.7.9"
  }
 },
 "nbformat": 4,
 "nbformat_minor": 0
}
